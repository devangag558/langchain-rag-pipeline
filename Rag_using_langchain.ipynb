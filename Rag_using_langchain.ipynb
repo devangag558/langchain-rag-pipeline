{
  "cells": [
    {
      "cell_type": "code",
      "execution_count": null,
      "metadata": {
        "id": "nG6m3Q9DBHV1"
      },
      "outputs": [],
      "source": [
        "import os\n",
        "os.environ[\"OPENAI_API_KEY\"] = \"Your OpenAI API Key\""
      ]
    },
    {
      "cell_type": "markdown",
      "metadata": {
        "id": "33R54QYjCMAJ"
      },
      "source": [
        "## Install libraries"
      ]
    },
    {
      "cell_type": "code",
      "execution_count": null,
      "metadata": {
        "id": "8F7iZIBmB8_T"
      },
      "outputs": [],
      "source": [
        "!pip install -q youtube-transcript-api langchain-community langchain-openai \\\n",
        "               faiss-cpu tiktoken python-dotenv"
      ]
    },
    {
      "cell_type": "code",
      "execution_count": null,
      "metadata": {
        "id": "hPcswe0tExci"
      },
      "outputs": [],
      "source": [
        "from youtube_transcript_api import YouTubeTranscriptApi, TranscriptsDisabled\n",
        "from langchain.text_splitter import RecursiveCharacterTextSplitter\n",
        "from langchain_openai import OpenAIEmbeddings, ChatOpenAI\n",
        "from langchain_community.vectorstores import FAISS\n",
        "from langchain_core.prompts import PromptTemplate"
      ]
    },
    {
      "cell_type": "markdown",
      "metadata": {
        "id": "0ZZrs-ijCTYt"
      },
      "source": [
        "## Step 1a - Indexing (Document Ingestion)"
      ]
    },
    {
      "cell_type": "code",
      "execution_count": null,
      "metadata": {
        "colab": {
          "base_uri": "https://localhost:8080/"
        },
        "id": "UASRMLadAmOm",
        "outputId": "20e56be7-13c4-49db-9d16-4ce1e420537c"
      },
      "outputs": [
        {
          "name": "stdout",
          "output_type": "stream",
          "text": [
            "Requirement already satisfied: yt-dlp in /usr/local/lib/python3.11/dist-packages (2025.8.11)\n",
            "Requirement already satisfied: langchain in /usr/local/lib/python3.11/dist-packages (0.3.27)\n",
            "Requirement already satisfied: langchain-core<1.0.0,>=0.3.72 in /usr/local/lib/python3.11/dist-packages (from langchain) (0.3.74)\n",
            "Requirement already satisfied: langchain-text-splitters<1.0.0,>=0.3.9 in /usr/local/lib/python3.11/dist-packages (from langchain) (0.3.9)\n",
            "Requirement already satisfied: langsmith>=0.1.17 in /usr/local/lib/python3.11/dist-packages (from langchain) (0.4.13)\n",
            "Requirement already satisfied: pydantic<3.0.0,>=2.7.4 in /usr/local/lib/python3.11/dist-packages (from langchain) (2.11.7)\n",
            "Requirement already satisfied: SQLAlchemy<3,>=1.4 in /usr/local/lib/python3.11/dist-packages (from langchain) (2.0.43)\n",
            "Requirement already satisfied: requests<3,>=2 in /usr/local/lib/python3.11/dist-packages (from langchain) (2.32.3)\n",
            "Requirement already satisfied: PyYAML>=5.3 in /usr/local/lib/python3.11/dist-packages (from langchain) (6.0.2)\n",
            "Requirement already satisfied: tenacity!=8.4.0,<10.0.0,>=8.1.0 in /usr/local/lib/python3.11/dist-packages (from langchain-core<1.0.0,>=0.3.72->langchain) (9.1.2)\n",
            "Requirement already satisfied: jsonpatch<2.0,>=1.33 in /usr/local/lib/python3.11/dist-packages (from langchain-core<1.0.0,>=0.3.72->langchain) (1.33)\n",
            "Requirement already satisfied: typing-extensions>=4.7 in /usr/local/lib/python3.11/dist-packages (from langchain-core<1.0.0,>=0.3.72->langchain) (4.14.1)\n",
            "Requirement already satisfied: packaging>=23.2 in /usr/local/lib/python3.11/dist-packages (from langchain-core<1.0.0,>=0.3.72->langchain) (25.0)\n",
            "Requirement already satisfied: httpx<1,>=0.23.0 in /usr/local/lib/python3.11/dist-packages (from langsmith>=0.1.17->langchain) (0.28.1)\n",
            "Requirement already satisfied: orjson>=3.9.14 in /usr/local/lib/python3.11/dist-packages (from langsmith>=0.1.17->langchain) (3.11.1)\n",
            "Requirement already satisfied: requests-toolbelt>=1.0.0 in /usr/local/lib/python3.11/dist-packages (from langsmith>=0.1.17->langchain) (1.0.0)\n",
            "Requirement already satisfied: zstandard>=0.23.0 in /usr/local/lib/python3.11/dist-packages (from langsmith>=0.1.17->langchain) (0.23.0)\n",
            "Requirement already satisfied: annotated-types>=0.6.0 in /usr/local/lib/python3.11/dist-packages (from pydantic<3.0.0,>=2.7.4->langchain) (0.7.0)\n",
            "Requirement already satisfied: pydantic-core==2.33.2 in /usr/local/lib/python3.11/dist-packages (from pydantic<3.0.0,>=2.7.4->langchain) (2.33.2)\n",
            "Requirement already satisfied: typing-inspection>=0.4.0 in /usr/local/lib/python3.11/dist-packages (from pydantic<3.0.0,>=2.7.4->langchain) (0.4.1)\n",
            "Requirement already satisfied: charset-normalizer<4,>=2 in /usr/local/lib/python3.11/dist-packages (from requests<3,>=2->langchain) (3.4.3)\n",
            "Requirement already satisfied: idna<4,>=2.5 in /usr/local/lib/python3.11/dist-packages (from requests<3,>=2->langchain) (3.10)\n",
            "Requirement already satisfied: urllib3<3,>=1.21.1 in /usr/local/lib/python3.11/dist-packages (from requests<3,>=2->langchain) (2.5.0)\n",
            "Requirement already satisfied: certifi>=2017.4.17 in /usr/local/lib/python3.11/dist-packages (from requests<3,>=2->langchain) (2025.8.3)\n",
            "Requirement already satisfied: greenlet>=1 in /usr/local/lib/python3.11/dist-packages (from SQLAlchemy<3,>=1.4->langchain) (3.2.4)\n",
            "Requirement already satisfied: anyio in /usr/local/lib/python3.11/dist-packages (from httpx<1,>=0.23.0->langsmith>=0.1.17->langchain) (4.10.0)\n",
            "Requirement already satisfied: httpcore==1.* in /usr/local/lib/python3.11/dist-packages (from httpx<1,>=0.23.0->langsmith>=0.1.17->langchain) (1.0.9)\n",
            "Requirement already satisfied: h11>=0.16 in /usr/local/lib/python3.11/dist-packages (from httpcore==1.*->httpx<1,>=0.23.0->langsmith>=0.1.17->langchain) (0.16.0)\n",
            "Requirement already satisfied: jsonpointer>=1.9 in /usr/local/lib/python3.11/dist-packages (from jsonpatch<2.0,>=1.33->langchain-core<1.0.0,>=0.3.72->langchain) (3.0.0)\n",
            "Requirement already satisfied: sniffio>=1.1 in /usr/local/lib/python3.11/dist-packages (from anyio->httpx<1,>=0.23.0->langsmith>=0.1.17->langchain) (1.3.1)\n",
            "[youtube] Extracting URL: https://www.youtube.com/watch?v=Gfr50f6ZBvo\n",
            "[youtube] Gfr50f6ZBvo: Downloading webpage\n",
            "[youtube] Gfr50f6ZBvo: Downloading tv client config\n",
            "[youtube] Gfr50f6ZBvo: Downloading tv player API JSON\n",
            "[youtube] Gfr50f6ZBvo: Downloading ios player API JSON\n",
            "[youtube] Gfr50f6ZBvo: Downloading m3u8 information\n",
            "[info] Gfr50f6ZBvo: Downloading subtitles: en\n",
            "[info] Testing format 616\n",
            "[info] Gfr50f6ZBvo: Downloading 1 format(s): 616+251\n",
            "[info] Writing video subtitles to: subs.en.vtt\n",
            "[download] Destination: subs.en.vtt\n",
            "\u001b[K[download] 100% of    1.22MiB in \u001b[1;37m00:00:00\u001b[0m at \u001b[0;32m5.04MiB/s\u001b[0m\n",
            "[SubtitlesConvertor] Converting subtitles\n",
            "Deleting original file subs.en.vtt (pass -k to keep)\n",
            "Found subtitle file: subs.en.srt\n",
            "Total chunks: 512\n",
            "First chunk:\n",
            "the following is a conversation with the following is a conversation with   the following is a conversation with demus hasabis demus hasabis   demus hasabis ceo and co-founder of deepmind ceo and co-founder of deepmind   ceo and co-founder of deepmind a company that has published and builds a company that has published and builds   a company that has published and builds some of the most incredible artificial some of the most incredible artificial   some of the most incredible artificial intelligence systems in the history of intelligence systems in the history of   intelligence systems in the history of computing including alfred zero that computing including alfred zero that   computing including alfred zero that learned learned   learned all by itself to play the game of gold all by itself to play the game of gold   all by itself to play the game of gold better than any human in the world and better than any human in the world and   better than any human in the world and alpha fold\n"
          ]
        }
      ],
      "source": [
        "!pip install yt-dlp langchain\n",
        "\n",
        "from langchain.text_splitter import RecursiveCharacterTextSplitter\n",
        "import re\n",
        "import glob\n",
        "\n",
        "video_url = \"https://www.youtube.com/watch?v=Gfr50f6ZBvo\"\n",
        "\n",
        "# Download subtitles in SRT format (no video)\n",
        "!yt-dlp --skip-download --write-auto-sub --sub-lang en --convert-subs srt \"{video_url}\" -o \"subs.%(ext)s\"\n",
        "\n",
        "# Detect the .srt file automatically\n",
        "srt_files = glob.glob(\"*.srt\")\n",
        "if not srt_files:\n",
        "    raise FileNotFoundError(\"No SRT file found. Check if the video has English subtitles.\")\n",
        "srt_file = srt_files[0]\n",
        "print(f\"Found subtitle file: {srt_file}\")\n",
        "\n",
        "# Function to strip timestamps and numbers from SRT\n",
        "def srt_to_transcript(srt_path):\n",
        "    with open(srt_path, \"r\", encoding=\"utf-8\") as f:\n",
        "        srt_content = f.read()\n",
        "    # Remove numeric indexes and timestamps\n",
        "    text = re.sub(r\"\\d+\\n\\d{2}:\\d{2}:\\d{2},\\d{3} --> .*\", \"\", srt_content)\n",
        "    # Merge lines into paragraphs\n",
        "    text = re.sub(r\"\\n+\", \" \", text).strip()\n",
        "    return text\n",
        "\n",
        "transcript = srt_to_transcript(srt_file)\n",
        "\n",
        "# Split into chunks for your pipeline\n",
        "splitter = RecursiveCharacterTextSplitter(chunk_size=1000, chunk_overlap=200)\n",
        "chunks = splitter.create_documents([transcript])\n",
        "\n",
        "print(f\"Total chunks: {len(chunks)}\")\n",
        "print(f\"First chunk:\\n{chunks[0].page_content}\")\n"
      ]
    },
    {
      "cell_type": "markdown",
      "metadata": {
        "id": "eKkcYsaOCrRX"
      },
      "source": [
        "## Step 1b - Indexing (Text Splitting)"
      ]
    },
    {
      "cell_type": "code",
      "execution_count": null,
      "metadata": {
        "colab": {
          "base_uri": "https://localhost:8080/"
        },
        "id": "4Dm9sfpQFnF1",
        "outputId": "da32b121-c365-4492-fff7-d475daffe7ba"
      },
      "outputs": [
        {
          "data": {
            "text/plain": [
              "512"
            ]
          },
          "execution_count": 54,
          "metadata": {},
          "output_type": "execute_result"
        }
      ],
      "source": [
        "len(chunks)"
      ]
    },
    {
      "cell_type": "code",
      "execution_count": null,
      "metadata": {
        "colab": {
          "base_uri": "https://localhost:8080/"
        },
        "id": "mYlrcBrkFO-N",
        "outputId": "3f90f684-aa8a-4dd9-de74-f5923c03583e"
      },
      "outputs": [
        {
          "data": {
            "text/plain": [
              "Document(metadata={}, page_content=\"to me it sure as heck sounds suspicious to me it sure as heck sounds   suspicious to me it sure as heck sounds this puzzle sure sounds like something this puzzle sure sounds like something   this puzzle sure sounds like something we talked about earlier what it takes to we talked about earlier what it takes to   we talked about earlier what it takes to to design a game to design a game   to design a game that's really fun to play for prolonged that's really fun to play for prolonged   that's really fun to play for prolonged periods of time periods of time   periods of time and it does seem like this puzzle like and it does seem like this puzzle like   and it does seem like this puzzle like you mentioned the more you learn about you mentioned the more you learn about   you mentioned the more you learn about it the more you realize how little you it the more you realize how little you   it the more you realize how little you know know   know so it humbles you but excites you by the so\")"
            ]
          },
          "execution_count": 63,
          "metadata": {},
          "output_type": "execute_result"
        }
      ],
      "source": [
        "chunks[500]"
      ]
    },
    {
      "cell_type": "markdown",
      "metadata": {
        "id": "8xYFK7WXC2Ka"
      },
      "source": [
        "## Step 1c & 1d - Indexing (Embedding Generation and Storing in Vector Store)"
      ]
    },
    {
      "cell_type": "code",
      "execution_count": null,
      "metadata": {
        "id": "jYXeS5T7FrC4"
      },
      "outputs": [],
      "source": [
        "embeddings = OpenAIEmbeddings(model=\"text-embedding-3-small\")\n",
        "vector_store = FAISS.from_documents(chunks, embeddings)"
      ]
    },
    {
      "cell_type": "code",
      "execution_count": null,
      "metadata": {
        "id": "PWYkp-NmFSVF"
      },
      "outputs": [],
      "source": [
        "vector_store.index_to_docstore_id"
      ]
    },
    {
      "cell_type": "code",
      "execution_count": null,
      "metadata": {
        "colab": {
          "base_uri": "https://localhost:8080/"
        },
        "id": "MxokTcWEGGAo",
        "outputId": "a7004383-038d-402f-be53-25b1256ec1e1"
      },
      "outputs": [
        {
          "data": {
            "text/plain": [
              "[Document(id='18b5fb9e-3d04-462e-92ab-8f59545fb28b', metadata={}, page_content=\"to me it sure as heck sounds suspicious to me it sure as heck sounds   suspicious to me it sure as heck sounds this puzzle sure sounds like something this puzzle sure sounds like something   this puzzle sure sounds like something we talked about earlier what it takes to we talked about earlier what it takes to   we talked about earlier what it takes to to design a game to design a game   to design a game that's really fun to play for prolonged that's really fun to play for prolonged   that's really fun to play for prolonged periods of time periods of time   periods of time and it does seem like this puzzle like and it does seem like this puzzle like   and it does seem like this puzzle like you mentioned the more you learn about you mentioned the more you learn about   you mentioned the more you learn about it the more you realize how little you it the more you realize how little you   it the more you realize how little you know know   know so it humbles you but excites you by the so\")]"
            ]
          },
          "execution_count": 59,
          "metadata": {},
          "output_type": "execute_result"
        }
      ],
      "source": [
        "vector_store.get_by_ids(['18b5fb9e-3d04-462e-92ab-8f59545fb28b'])"
      ]
    },
    {
      "cell_type": "markdown",
      "metadata": {
        "id": "Zez1650EDN9J"
      },
      "source": [
        "## Step 2 - Retrieval"
      ]
    },
    {
      "cell_type": "code",
      "execution_count": null,
      "metadata": {
        "id": "KEuoGUYOF3oG"
      },
      "outputs": [],
      "source": [
        "retriever = vector_store.as_retriever(search_type=\"similarity\", search_kwargs={\"k\": 4})"
      ]
    },
    {
      "cell_type": "code",
      "execution_count": null,
      "metadata": {
        "colab": {
          "base_uri": "https://localhost:8080/"
        },
        "id": "Qcose8VuGFAv",
        "outputId": "d972918b-556c-4903-a4b4-35b562199555"
      },
      "outputs": [
        {
          "data": {
            "text/plain": [
              "VectorStoreRetriever(tags=['FAISS', 'OpenAIEmbeddings'], vectorstore=<langchain_community.vectorstores.faiss.FAISS object at 0x7facd1278a50>, search_kwargs={'k': 4})"
            ]
          },
          "execution_count": 65,
          "metadata": {},
          "output_type": "execute_result"
        }
      ],
      "source": [
        "retriever"
      ]
    },
    {
      "cell_type": "code",
      "execution_count": null,
      "metadata": {
        "colab": {
          "base_uri": "https://localhost:8080/"
        },
        "id": "Wvrsq08TGGNk",
        "outputId": "7722db22-a1f6-4679-f3cb-faf5d96a0358"
      },
      "outputs": [
        {
          "data": {
            "text/plain": [
              "[Document(id='ff7ff45b-6b59-48cd-a91a-ff28651a8bab', metadata={}, page_content='the following is a conversation with the following is a conversation with   the following is a conversation with demus hasabis demus hasabis   demus hasabis ceo and co-founder of deepmind ceo and co-founder of deepmind   ceo and co-founder of deepmind a company that has published and builds a company that has published and builds   a company that has published and builds some of the most incredible artificial some of the most incredible artificial   some of the most incredible artificial intelligence systems in the history of intelligence systems in the history of   intelligence systems in the history of computing including alfred zero that computing including alfred zero that   computing including alfred zero that learned learned   learned all by itself to play the game of gold all by itself to play the game of gold   all by itself to play the game of gold better than any human in the world and better than any human in the world and   better than any human in the world and alpha fold'),\n",
              " Document(id='a1cde6a9-b73c-4d26-95ac-c39ecbbeb320', metadata={}, page_content=\"to this because you're in a very this because you're in a very   this because you're in a very interesting position where deepmind is interesting position where deepmind is   interesting position where deepmind is the place of some of the most uh the place of some of the most uh   the place of some of the most uh brilliant ideas in the history of ai but brilliant ideas in the history of ai but   brilliant ideas in the history of ai but it's also a place of brilliant it's also a place of brilliant   it's also a place of brilliant engineering engineering   engineering so how much of solving intelligence this so how much of solving intelligence this   so how much of solving intelligence this big goal for deepmind how much of it is big goal for deepmind how much of it is   big goal for deepmind how much of it is science how much is engineering so how science how much is engineering so how   science how much is engineering so how much is the algorithms how much is the much is the\"),\n",
              " Document(id='55344efb-ebba-49ec-8fe8-d283da8aa02a', metadata={}, page_content='uh and innovation was the multi-disciplinary organization we the multi-disciplinary organization we   the multi-disciplinary organization we built and we still have today so built and we still have today so   built and we still have today so deepmind originally was a confluence of deepmind originally was a confluence of   deepmind originally was a confluence of the of the most cutting-edge knowledge the of the most cutting-edge knowledge   the of the most cutting-edge knowledge in neuroscience with machine learning in neuroscience with machine learning   in neuroscience with machine learning engineering and mathematics right and engineering and mathematics right and   engineering and mathematics right and and gaming and gaming   and gaming and then since then we built that out and then since then we built that out   and then since then we built that out even further so we have philosophers even further so we have philosophers   even further so we have philosophers here and and uh by'),\n",
              " Document(id='f56d512b-b2a3-4388-9a65-91ad1687dd11', metadata={}, page_content=\"use start of deepmind was that we would use   start of deepmind was that we would use games very heavily uh as our main games very heavily uh as our main   games very heavily uh as our main testing ground certainly to begin with testing ground certainly to begin with   testing ground certainly to begin with um because it's super efficient to use um because it's super efficient to use   um because it's super efficient to use games and also you know it's very easy games and also you know it's very easy   games and also you know it's very easy to have metrics to see how well your to have metrics to see how well your   to have metrics to see how well your systems are improving and what direction systems are improving and what direction   systems are improving and what direction your ideas are going in and whether your ideas are going in and whether   your ideas are going in and whether you're making incremental improvements you're making incremental improvements   you're making\")]"
            ]
          },
          "execution_count": 66,
          "metadata": {},
          "output_type": "execute_result"
        }
      ],
      "source": [
        "retriever.invoke('What is deepmind')"
      ]
    },
    {
      "cell_type": "markdown",
      "metadata": {
        "id": "F8y0wRmoDSVZ"
      },
      "source": [
        "## Step 3 - Augmentation"
      ]
    },
    {
      "cell_type": "code",
      "execution_count": null,
      "metadata": {
        "id": "x2P2AlJ0GN5L"
      },
      "outputs": [],
      "source": [
        "llm = ChatOpenAI(model=\"gpt-4o-mini\", temperature=0.2)"
      ]
    },
    {
      "cell_type": "code",
      "execution_count": null,
      "metadata": {
        "id": "2-NeLx9wFHzw"
      },
      "outputs": [],
      "source": [
        "prompt = PromptTemplate(\n",
        "    template=\"\"\"\n",
        "      You are a helpful assistant.\n",
        "      Answer ONLY from the provided transcript context.\n",
        "      If the context is insufficient, just say you don't know.\n",
        "\n",
        "      {context}\n",
        "      Question: {question}\n",
        "    \"\"\",\n",
        "    input_variables = ['context', 'question']\n",
        ")"
      ]
    },
    {
      "cell_type": "code",
      "execution_count": null,
      "metadata": {
        "id": "WI9BOZQwGizf"
      },
      "outputs": [],
      "source": [
        "question          = \"is the topic of nuclear fusion discussed in this video? if yes then what was discussed\"\n",
        "retrieved_docs    = retriever.invoke(question)"
      ]
    },
    {
      "cell_type": "code",
      "execution_count": null,
      "metadata": {
        "colab": {
          "base_uri": "https://localhost:8080/"
        },
        "id": "hfv8yNFsK_GN",
        "outputId": "d81959f7-32fc-4237-b73d-c46683c48a0c"
      },
      "outputs": [
        {
          "data": {
            "text/plain": [
              "[Document(id='19c51167-6ded-460d-92b4-d18d750adfb1', metadata={}, page_content=\"yeah contain it and hold it in structure   yeah contain it and hold it in structure and there's different shapes that are and there's different shapes that are   and there's different shapes that are better for for the energy productions better for for the energy productions   better for for the energy productions called droplets and and and so on so um called droplets and and and so on so um   called droplets and and and so on so um so that was huge and now we're looking so that was huge and now we're looking   so that was huge and now we're looking we're talking to lots of fusion startups we're talking to lots of fusion startups   we're talking to lots of fusion startups to see what's the next problem we can to see what's the next problem we can   to see what's the next problem we can tackle uh in the fusion area tackle uh in the fusion area   tackle uh in the fusion area so another fascinating place so another fascinating place   so another fascinating place in a paper title\"),\n",
              " Document(id='ef343be5-9a19-42c2-a6bf-8f050f870145', metadata={}, page_content=\"what we we lots of criteria that matched what we we   lots of criteria that matched what we we like to to to use like to to to use   like to to to use so can ai eventually solve nuclear so can ai eventually solve nuclear   so can ai eventually solve nuclear fusion well so we with this problem and fusion well so we with this problem and   fusion well so we with this problem and we published it in a nature paper last we published it in a nature paper last   we published it in a nature paper last year uh we held the fusion that we held year uh we held the fusion that we held   year uh we held the fusion that we held the plasma in specific shapes so the plasma in specific shapes so   the plasma in specific shapes so actually it's almost like carving the actually it's almost like carving the   actually it's almost like carving the plasma into different shapes and control plasma into different shapes and control   plasma into different shapes and control and hold it there for the record\"),\n",
              " Document(id='6314ec59-cce9-4118-861e-8e975a54bf06', metadata={}, page_content='material challenges mostly physics material   challenges mostly physics material science and engineering challenges as science and engineering challenges as   science and engineering challenges as well to build these massive fusion well to build these massive fusion   well to build these massive fusion reactors and contain the plasma and what reactors and contain the plasma and what   reactors and contain the plasma and what we try to do whenever we go into a new we try to do whenever we go into a new   we try to do whenever we go into a new field field   field to apply our systems is we look for um to apply our systems is we look for um   to apply our systems is we look for um we talk to domain experts we try and we talk to domain experts we try and   we talk to domain experts we try and find the best people in the world to find the best people in the world to   find the best people in the world to collaborate with um collaborate with um   collaborate with um in this case in fusion'),\n",
              " Document(id='29e30c75-83b7-4310-84a6-723684085649', metadata={}, page_content=\"the team   you know i double checked with the team we were going to use carefully and we were going to use carefully and   we were going to use carefully and safely safely   safely i was impressed they managed to persuade i was impressed they managed to persuade   i was impressed they managed to persuade them to let us use it and um and it's a them to let us use it and um and it's a   them to let us use it and um and it's a it's an amazing test reactor they have it's an amazing test reactor they have   it's an amazing test reactor they have there and they try all sorts of pretty there and they try all sorts of pretty   there and they try all sorts of pretty crazy experiments on it and um the the crazy experiments on it and um the the   crazy experiments on it and um the the the what we tend to look at is if we go the what we tend to look at is if we go   the what we tend to look at is if we go into a new domain like fusion what are into a new domain like fusion what are   into a new\")]"
            ]
          },
          "execution_count": 71,
          "metadata": {},
          "output_type": "execute_result"
        }
      ],
      "source": [
        "retrieved_docs"
      ]
    },
    {
      "cell_type": "code",
      "execution_count": null,
      "metadata": {
        "colab": {
          "base_uri": "https://localhost:8080/",
          "height": 122
        },
        "id": "bKwpvAo5G_Pk",
        "outputId": "28556dc2-ef42-40c1-ac8c-fe85aef10dcc"
      },
      "outputs": [
        {
          "data": {
            "application/vnd.google.colaboratory.intrinsic+json": {
              "type": "string"
            },
            "text/plain": [
              "\"yeah contain it and hold it in structure   yeah contain it and hold it in structure and there's different shapes that are and there's different shapes that are   and there's different shapes that are better for for the energy productions better for for the energy productions   better for for the energy productions called droplets and and and so on so um called droplets and and and so on so um   called droplets and and and so on so um so that was huge and now we're looking so that was huge and now we're looking   so that was huge and now we're looking we're talking to lots of fusion startups we're talking to lots of fusion startups   we're talking to lots of fusion startups to see what's the next problem we can to see what's the next problem we can   to see what's the next problem we can tackle uh in the fusion area tackle uh in the fusion area   tackle uh in the fusion area so another fascinating place so another fascinating place   so another fascinating place in a paper title\\n\\nwhat we we lots of criteria that matched what we we   lots of criteria that matched what we we like to to to use like to to to use   like to to to use so can ai eventually solve nuclear so can ai eventually solve nuclear   so can ai eventually solve nuclear fusion well so we with this problem and fusion well so we with this problem and   fusion well so we with this problem and we published it in a nature paper last we published it in a nature paper last   we published it in a nature paper last year uh we held the fusion that we held year uh we held the fusion that we held   year uh we held the fusion that we held the plasma in specific shapes so the plasma in specific shapes so   the plasma in specific shapes so actually it's almost like carving the actually it's almost like carving the   actually it's almost like carving the plasma into different shapes and control plasma into different shapes and control   plasma into different shapes and control and hold it there for the record\\n\\nmaterial challenges mostly physics material   challenges mostly physics material science and engineering challenges as science and engineering challenges as   science and engineering challenges as well to build these massive fusion well to build these massive fusion   well to build these massive fusion reactors and contain the plasma and what reactors and contain the plasma and what   reactors and contain the plasma and what we try to do whenever we go into a new we try to do whenever we go into a new   we try to do whenever we go into a new field field   field to apply our systems is we look for um to apply our systems is we look for um   to apply our systems is we look for um we talk to domain experts we try and we talk to domain experts we try and   we talk to domain experts we try and find the best people in the world to find the best people in the world to   find the best people in the world to collaborate with um collaborate with um   collaborate with um in this case in fusion\\n\\nthe team   you know i double checked with the team we were going to use carefully and we were going to use carefully and   we were going to use carefully and safely safely   safely i was impressed they managed to persuade i was impressed they managed to persuade   i was impressed they managed to persuade them to let us use it and um and it's a them to let us use it and um and it's a   them to let us use it and um and it's a it's an amazing test reactor they have it's an amazing test reactor they have   it's an amazing test reactor they have there and they try all sorts of pretty there and they try all sorts of pretty   there and they try all sorts of pretty crazy experiments on it and um the the crazy experiments on it and um the the   crazy experiments on it and um the the the what we tend to look at is if we go the what we tend to look at is if we go   the what we tend to look at is if we go into a new domain like fusion what are into a new domain like fusion what are   into a new\""
            ]
          },
          "execution_count": 72,
          "metadata": {},
          "output_type": "execute_result"
        }
      ],
      "source": [
        "context_text = \"\\n\\n\".join(doc.page_content for doc in retrieved_docs)\n",
        "context_text"
      ]
    },
    {
      "cell_type": "code",
      "execution_count": null,
      "metadata": {
        "id": "_bikWKZWDiqB"
      },
      "outputs": [],
      "source": [
        "final_prompt = prompt.invoke({\"context\": context_text, \"question\": question})"
      ]
    },
    {
      "cell_type": "code",
      "execution_count": null,
      "metadata": {
        "colab": {
          "base_uri": "https://localhost:8080/"
        },
        "id": "5LOFVVAbLYvU",
        "outputId": "536aa6e8-e1dd-4557-9ae2-6d1ec0082cc0"
      },
      "outputs": [
        {
          "data": {
            "text/plain": [
              "StringPromptValue(text=\"\\n      You are a helpful assistant.\\n      Answer ONLY from the provided transcript context.\\n      If the context is insufficient, just say you don't know.\\n\\n      yeah contain it and hold it in structure   yeah contain it and hold it in structure and there's different shapes that are and there's different shapes that are   and there's different shapes that are better for for the energy productions better for for the energy productions   better for for the energy productions called droplets and and and so on so um called droplets and and and so on so um   called droplets and and and so on so um so that was huge and now we're looking so that was huge and now we're looking   so that was huge and now we're looking we're talking to lots of fusion startups we're talking to lots of fusion startups   we're talking to lots of fusion startups to see what's the next problem we can to see what's the next problem we can   to see what's the next problem we can tackle uh in the fusion area tackle uh in the fusion area   tackle uh in the fusion area so another fascinating place so another fascinating place   so another fascinating place in a paper title\\n\\nwhat we we lots of criteria that matched what we we   lots of criteria that matched what we we like to to to use like to to to use   like to to to use so can ai eventually solve nuclear so can ai eventually solve nuclear   so can ai eventually solve nuclear fusion well so we with this problem and fusion well so we with this problem and   fusion well so we with this problem and we published it in a nature paper last we published it in a nature paper last   we published it in a nature paper last year uh we held the fusion that we held year uh we held the fusion that we held   year uh we held the fusion that we held the plasma in specific shapes so the plasma in specific shapes so   the plasma in specific shapes so actually it's almost like carving the actually it's almost like carving the   actually it's almost like carving the plasma into different shapes and control plasma into different shapes and control   plasma into different shapes and control and hold it there for the record\\n\\nmaterial challenges mostly physics material   challenges mostly physics material science and engineering challenges as science and engineering challenges as   science and engineering challenges as well to build these massive fusion well to build these massive fusion   well to build these massive fusion reactors and contain the plasma and what reactors and contain the plasma and what   reactors and contain the plasma and what we try to do whenever we go into a new we try to do whenever we go into a new   we try to do whenever we go into a new field field   field to apply our systems is we look for um to apply our systems is we look for um   to apply our systems is we look for um we talk to domain experts we try and we talk to domain experts we try and   we talk to domain experts we try and find the best people in the world to find the best people in the world to   find the best people in the world to collaborate with um collaborate with um   collaborate with um in this case in fusion\\n\\nthe team   you know i double checked with the team we were going to use carefully and we were going to use carefully and   we were going to use carefully and safely safely   safely i was impressed they managed to persuade i was impressed they managed to persuade   i was impressed they managed to persuade them to let us use it and um and it's a them to let us use it and um and it's a   them to let us use it and um and it's a it's an amazing test reactor they have it's an amazing test reactor they have   it's an amazing test reactor they have there and they try all sorts of pretty there and they try all sorts of pretty   there and they try all sorts of pretty crazy experiments on it and um the the crazy experiments on it and um the the   crazy experiments on it and um the the the what we tend to look at is if we go the what we tend to look at is if we go   the what we tend to look at is if we go into a new domain like fusion what are into a new domain like fusion what are   into a new\\n      Question: is the topic of nuclear fusion discussed in this video? if yes then what was discussed\\n    \")"
            ]
          },
          "execution_count": 74,
          "metadata": {},
          "output_type": "execute_result"
        }
      ],
      "source": [
        "final_prompt"
      ]
    },
    {
      "cell_type": "markdown",
      "metadata": {
        "id": "MxxcV2C_DXqt"
      },
      "source": [
        "## Step 4 - Generation"
      ]
    },
    {
      "cell_type": "code",
      "execution_count": null,
      "metadata": {
        "colab": {
          "base_uri": "https://localhost:8080/"
        },
        "id": "HX6vxSoUHBok",
        "outputId": "c8627558-66dc-4d92-cbf2-fe2b7a133d54"
      },
      "outputs": [
        {
          "name": "stdout",
          "output_type": "stream",
          "text": [
            "Yes, the topic of nuclear fusion is discussed in this video. The discussion includes the containment and shaping of plasma for energy production, the challenges associated with material science and engineering in building fusion reactors, and the collaboration with domain experts to tackle problems in the fusion area. Additionally, there is mention of a nature paper published regarding the control of plasma shapes and the use of a test reactor for experiments related to fusion.\n"
          ]
        }
      ],
      "source": [
        "answer = llm.invoke(final_prompt)\n",
        "print(answer.content)"
      ]
    },
    {
      "cell_type": "markdown",
      "metadata": {
        "id": "wH2Ph0NcDlo5"
      },
      "source": [
        "## Building a Chain"
      ]
    },
    {
      "cell_type": "code",
      "execution_count": null,
      "metadata": {
        "id": "RdTwSS3nHKRz"
      },
      "outputs": [],
      "source": [
        "from langchain_core.runnables import RunnableParallel, RunnablePassthrough, RunnableLambda\n",
        "from langchain_core.output_parsers import StrOutputParser"
      ]
    },
    {
      "cell_type": "code",
      "execution_count": null,
      "metadata": {
        "id": "VGezE1qYQJ76"
      },
      "outputs": [],
      "source": [
        "def format_docs(retrieved_docs):\n",
        "  context_text = \"\\n\\n\".join(doc.page_content for doc in retrieved_docs)\n",
        "  return context_text"
      ]
    },
    {
      "cell_type": "code",
      "execution_count": null,
      "metadata": {
        "id": "fmYnYqbWQWLi"
      },
      "outputs": [],
      "source": [
        "parallel_chain = RunnableParallel({\n",
        "    'context': retriever | RunnableLambda(format_docs),\n",
        "    'question': RunnablePassthrough()\n",
        "})"
      ]
    },
    {
      "cell_type": "code",
      "execution_count": null,
      "metadata": {
        "colab": {
          "base_uri": "https://localhost:8080/"
        },
        "id": "lGI1hEvfQvLb",
        "outputId": "0f98f697-8592-4f70-fc9e-b1c0c0acb311"
      },
      "outputs": [
        {
          "data": {
            "text/plain": [
              "{'context': \"the following is a conversation with the following is a conversation with   the following is a conversation with demus hasabis demus hasabis   demus hasabis ceo and co-founder of deepmind ceo and co-founder of deepmind   ceo and co-founder of deepmind a company that has published and builds a company that has published and builds   a company that has published and builds some of the most incredible artificial some of the most incredible artificial   some of the most incredible artificial intelligence systems in the history of intelligence systems in the history of   intelligence systems in the history of computing including alfred zero that computing including alfred zero that   computing including alfred zero that learned learned   learned all by itself to play the game of gold all by itself to play the game of gold   all by itself to play the game of gold better than any human in the world and better than any human in the world and   better than any human in the world and alpha fold\\n\\nspecial damas dear one of the special   damas dear one of the special human beings in this giant puzzle of human beings in this giant puzzle of   human beings in this giant puzzle of ours and it's a huge honor that you ours and it's a huge honor that you   ours and it's a huge honor that you would take a pause from the bigger would take a pause from the bigger   would take a pause from the bigger puzzle to solve this small puzzle of a puzzle to solve this small puzzle of a   puzzle to solve this small puzzle of a conversation with me today it's truly an conversation with me today it's truly an   conversation with me today it's truly an honor and a pleasure thank you thank you honor and a pleasure thank you thank you   honor and a pleasure thank you thank you i really enjoyed it thanks lex i really enjoyed it thanks lex   i really enjoyed it thanks lex thanks for listening to this thanks for listening to this   thanks for listening to this conversation with demas establish to\\n\\nour sponsors support it please check out our sponsors   support it please check out our sponsors in the description and now dear friends in the description and now dear friends   in the description and now dear friends here's demis here's demis   here's demis hassabis hassabis   hassabis let's start with a bit of a personal let's start with a bit of a personal   let's start with a bit of a personal question question   question am i an ai program you wrote to am i an ai program you wrote to   am i an ai program you wrote to interview people until i get good enough interview people until i get good enough   interview people until i get good enough to interview you to interview you   to interview you well i'll be impressed if if you were well i'll be impressed if if you were   well i'll be impressed if if you were i'd be impressed by myself if you were i i'd be impressed by myself if you were i   i'd be impressed by myself if you were i don't think we're quite up to that yet don't think\\n\\nlex i really enjoyed it thanks lex   i really enjoyed it thanks lex thanks for listening to this thanks for listening to this   thanks for listening to this conversation with demas establish to conversation with demas establish to   conversation with demas establish to support this podcast please check out support this podcast please check out   support this podcast please check out our sponsors in the description our sponsors in the description   our sponsors in the description and now let me leave you with some words and now let me leave you with some words   and now let me leave you with some words from edskar dykstra from edskar dykstra   from edskar dykstra computer science is no more about computer science is no more about   computer science is no more about computers computers   computers than astronomy is about telescopes than astronomy is about telescopes   than astronomy is about telescopes thank you for listening and hope to see thank you for listening and hope to see\",\n",
              " 'question': 'who is Demis'}"
            ]
          },
          "execution_count": 79,
          "metadata": {},
          "output_type": "execute_result"
        }
      ],
      "source": [
        "parallel_chain.invoke('who is Demis')"
      ]
    },
    {
      "cell_type": "code",
      "execution_count": null,
      "metadata": {
        "id": "e6osgdBfRCPN"
      },
      "outputs": [],
      "source": [
        "parser = StrOutputParser()"
      ]
    },
    {
      "cell_type": "code",
      "execution_count": null,
      "metadata": {
        "id": "Y3e2en89QyOC"
      },
      "outputs": [],
      "source": [
        "main_chain = parallel_chain | prompt | llm | parser"
      ]
    },
    {
      "cell_type": "code",
      "execution_count": null,
      "metadata": {
        "colab": {
          "base_uri": "https://localhost:8080/",
          "height": 87
        },
        "id": "Ur7Ph_xlRE-7",
        "outputId": "433060cc-e28e-499a-def8-a5e16c12895a"
      },
      "outputs": [
        {
          "data": {
            "application/vnd.google.colaboratory.intrinsic+json": {
              "type": "string"
            },
            "text/plain": [
              "'The video discusses the use of quantum chemistry and computational data to improve the efficiency of learning functionals. It touches on the potential for simulating complex biological systems, including the human brain and body, through multi-protein interaction systems. Additionally, there is a brief tangent about impressive AI in game design and the challenges of creating such AI systems. The overarching theme is about utilizing advanced computational methods for significant scientific and technological advancements.'"
            ]
          },
          "execution_count": 82,
          "metadata": {},
          "output_type": "execute_result"
        }
      ],
      "source": [
        "main_chain.invoke('Can you summarize the video')"
      ]
    },
    {
      "cell_type": "code",
      "execution_count": null,
      "metadata": {
        "id": "ZyERl2UwRKn6"
      },
      "outputs": [],
      "source": []
    }
  ],
  "metadata": {
    "colab": {
      "provenance": []
    },
    "kernelspec": {
      "display_name": "Python 3",
      "name": "python3"
    },
    "language_info": {
      "name": "python"
    }
  },
  "nbformat": 4,
  "nbformat_minor": 0
}
